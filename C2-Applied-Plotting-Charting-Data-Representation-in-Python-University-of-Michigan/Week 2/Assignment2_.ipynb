{
 "cells": [
  {
   "cell_type": "markdown",
   "metadata": {},
   "source": [
    "# Assignment 2\n",
    "\n",
    "Before working on this assignment please read these instructions fully. In the submission area, you will notice that you can click the link to **Preview the Grading** for each step of the assignment. This is the criteria that will be used for peer grading. Please familiarize yourself with the criteria before beginning the assignment.\n",
    "\n",
    "An NOAA dataset has been stored in the file `data/C2A2_data/BinnedCsvs_d400/fb441e62df2d58994928907a91895ec62c2c42e6cd075c2700843b89.csv`. The data for this assignment comes from a subset of The National Centers for Environmental Information (NCEI) [Daily Global Historical Climatology Network](https://www1.ncdc.noaa.gov/pub/data/ghcn/daily/readme.txt) (GHCN-Daily). The GHCN-Daily is comprised of daily climate records from thousands of land surface stations across the globe.\n",
    "\n",
    "Each row in the assignment datafile corresponds to a single observation.\n",
    "\n",
    "The following variables are provided to you:\n",
    "\n",
    "* **id** : station identification code\n",
    "* **date** : date in YYYY-MM-DD format (e.g. 2012-01-24 = January 24, 2012)\n",
    "* **element** : indicator of element type\n",
    "    * TMAX : Maximum temperature (tenths of degrees C)\n",
    "    * TMIN : Minimum temperature (tenths of degrees C)\n",
    "* **value** : data value for element (tenths of degrees C)\n",
    "\n",
    "For this assignment, you must:\n",
    "\n",
    "1. Read the documentation and familiarize yourself with the dataset, then write some python code which returns a line graph of the record high and record low temperatures by day of the year over the period 2005-2014. The area between the record high and record low temperatures for each day should be shaded.\n",
    "2. Overlay a scatter of the 2015 data for any points (highs and lows) for which the ten year record (2005-2014) record high or record low was broken in 2015.\n",
    "3. Watch out for leap days (i.e. February 29th), it is reasonable to remove these points from the dataset for the purpose of this visualization.\n",
    "4. Make the visual nice! Leverage principles from the first module in this course when developing your solution. Consider issues such as legends, labels, and chart junk.\n",
    "\n",
    "The data you have been given is near **Ann Arbor, Michigan, United States**, and the stations the data comes from are shown on the map below."
   ]
  },
  {
   "cell_type": "code",
   "execution_count": 3,
   "metadata": {},
   "outputs": [
    {
     "name": "stdout",
     "output_type": "stream",
     "text": [
      "Requirement already satisfied: mplleaflet in /Library/Frameworks/Python.framework/Versions/3.9/lib/python3.9/site-packages (0.0.5)\r\n",
      "Requirement already satisfied: six in /Users/notorious/Library/Python/3.9/lib/python/site-packages (from mplleaflet) (1.15.0)\r\n",
      "Requirement already satisfied: jinja2 in /Library/Frameworks/Python.framework/Versions/3.9/lib/python3.9/site-packages (from mplleaflet) (3.0.1)\r\n",
      "Requirement already satisfied: MarkupSafe>=2.0 in /Library/Frameworks/Python.framework/Versions/3.9/lib/python3.9/site-packages (from jinja2->mplleaflet) (2.0.1)\r\n"
     ]
    }
   ],
   "source": [
    "!pip3 install mplleaflet"
   ]
  },
  {
   "cell_type": "code",
   "execution_count": 5,
   "metadata": {},
   "outputs": [
    {
     "ename": "NameError",
     "evalue": "name 'mplleaflet' is not defined",
     "output_type": "error",
     "traceback": [
      "\u001b[0;31m---------------------------------------------------------------------------\u001b[0m",
      "\u001b[0;31mNameError\u001b[0m                                 Traceback (most recent call last)",
      "\u001b[0;32m/var/folders/mf/nscbhmyd6nd_t_f82x00d0h00000gn/T/ipykernel_45841/2355035178.py\u001b[0m in \u001b[0;36m<module>\u001b[0;34m\u001b[0m\n\u001b[1;32m     18\u001b[0m     \u001b[0;32mreturn\u001b[0m \u001b[0mmplleaflet\u001b[0m\u001b[0;34m.\u001b[0m\u001b[0mdisplay\u001b[0m\u001b[0;34m(\u001b[0m\u001b[0;34m)\u001b[0m\u001b[0;34m\u001b[0m\u001b[0;34m\u001b[0m\u001b[0m\n\u001b[1;32m     19\u001b[0m \u001b[0;34m\u001b[0m\u001b[0m\n\u001b[0;32m---> 20\u001b[0;31m \u001b[0mleaflet_plot_stations\u001b[0m\u001b[0;34m(\u001b[0m\u001b[0;36m400\u001b[0m\u001b[0;34m,\u001b[0m\u001b[0;34m'fb441e62df2d58994928907a91895ec62c2c42e6cd075c2700843b89'\u001b[0m\u001b[0;34m)\u001b[0m\u001b[0;34m\u001b[0m\u001b[0;34m\u001b[0m\u001b[0m\n\u001b[0m",
      "\u001b[0;32m/var/folders/mf/nscbhmyd6nd_t_f82x00d0h00000gn/T/ipykernel_45841/2355035178.py\u001b[0m in \u001b[0;36mleaflet_plot_stations\u001b[0;34m(binsize, hashid)\u001b[0m\n\u001b[1;32m     16\u001b[0m     \u001b[0mplt\u001b[0m\u001b[0;34m.\u001b[0m\u001b[0mscatter\u001b[0m\u001b[0;34m(\u001b[0m\u001b[0mlons\u001b[0m\u001b[0;34m,\u001b[0m \u001b[0mlats\u001b[0m\u001b[0;34m,\u001b[0m \u001b[0mc\u001b[0m\u001b[0;34m=\u001b[0m\u001b[0;34m'r'\u001b[0m\u001b[0;34m,\u001b[0m \u001b[0malpha\u001b[0m\u001b[0;34m=\u001b[0m\u001b[0;36m0.7\u001b[0m\u001b[0;34m,\u001b[0m \u001b[0ms\u001b[0m\u001b[0;34m=\u001b[0m\u001b[0;36m200\u001b[0m\u001b[0;34m)\u001b[0m\u001b[0;34m\u001b[0m\u001b[0;34m\u001b[0m\u001b[0m\n\u001b[1;32m     17\u001b[0m \u001b[0;34m\u001b[0m\u001b[0m\n\u001b[0;32m---> 18\u001b[0;31m     \u001b[0;32mreturn\u001b[0m \u001b[0mmplleaflet\u001b[0m\u001b[0;34m.\u001b[0m\u001b[0mdisplay\u001b[0m\u001b[0;34m(\u001b[0m\u001b[0;34m)\u001b[0m\u001b[0;34m\u001b[0m\u001b[0;34m\u001b[0m\u001b[0m\n\u001b[0m\u001b[1;32m     19\u001b[0m \u001b[0;34m\u001b[0m\u001b[0m\n\u001b[1;32m     20\u001b[0m \u001b[0mleaflet_plot_stations\u001b[0m\u001b[0;34m(\u001b[0m\u001b[0;36m400\u001b[0m\u001b[0;34m,\u001b[0m\u001b[0;34m'fb441e62df2d58994928907a91895ec62c2c42e6cd075c2700843b89'\u001b[0m\u001b[0;34m)\u001b[0m\u001b[0;34m\u001b[0m\u001b[0;34m\u001b[0m\u001b[0m\n",
      "\u001b[0;31mNameError\u001b[0m: name 'mplleaflet' is not defined"
     ]
    },
    {
     "data": {
      "image/png": "[encoded data removed]",
      "text/plain": [
       "<Figure size 576x576 with 1 Axes>"
      ]
     },
     "metadata": {
      "needs_background": "light"
     },
     "output_type": "display_data"
    }
   ],
   "source": [
    "import matplotlib.pyplot as plt\n",
    "\n",
    "import pandas as pd\n",
    "\n",
    "def leaflet_plot_stations(binsize, hashid):\n",
    "\n",
    "    df = pd.read_csv('data/C2A2_data/BinSize_d{}.csv'.format(binsize))\n",
    "\n",
    "    station_locations_by_hash = df[df['hash'] == hashid]\n",
    "\n",
    "    lons = station_locations_by_hash['LONGITUDE'].tolist()\n",
    "    lats = station_locations_by_hash['LATITUDE'].tolist()\n",
    "\n",
    "    plt.figure(figsize=(8,8))\n",
    "\n",
    "    plt.scatter(lons, lats, c='r', alpha=0.7, s=200)\n",
    "\n",
    "    return mplleaflet.display()\n",
    "\n",
    "leaflet_plot_stations(400,'fb441e62df2d58994928907a91895ec62c2c42e6cd075c2700843b89')"
   ]
  },
  {
   "cell_type": "code",
   "execution_count": null,
   "metadata": {},
   "outputs": [],
   "source": [
    "# Load Data\n",
    "df = pd.read_csv('data/C2A2_data/BinnedCsvs_d400/fb441e62df2d58994928907a91895ec62c2c42e6cd075c2700843b89.csv')\n",
    "df.head()"
   ]
  },
  {
   "cell_type": "code",
   "execution_count": null,
   "metadata": {},
   "outputs": [],
   "source": [
    "# Dimensions of data\n",
    "df.shape"
   ]
  },
  {
   "cell_type": "code",
   "execution_count": null,
   "metadata": {},
   "outputs": [],
   "source": [
    "# Stations\n",
    "df['ID'].unique()"
   ]
  },
  {
   "cell_type": "code",
   "execution_count": null,
   "metadata": {},
   "outputs": [],
   "source": [
    "# Number of unique stations\n",
    "len(df['ID'].unique())"
   ]
  },
  {
   "cell_type": "code",
   "execution_count": null,
   "metadata": {},
   "outputs": [],
   "source": [
    "df = df.sort('Date')\n",
    "df.head()"
   ]
  },
  {
   "cell_type": "code",
   "execution_count": null,
   "metadata": {},
   "outputs": [],
   "source": [
    "decade = df[(df['Date'] >= '2005-01-01') & (df['Date'] < '2015-01-01')]\n",
    "decade.head()\n",
    "print(decade['Date'].max())\n",
    "print(decade['Date'].min())"
   ]
  },
  {
   "cell_type": "code",
   "execution_count": null,
   "metadata": {},
   "outputs": [],
   "source": [
    "year_2015 = df[(df['Date'] >= '2015-01-01')]\n",
    "year_2015['Date'].min()"
   ]
  },
  {
   "cell_type": "code",
   "execution_count": null,
   "metadata": {},
   "outputs": [],
   "source": [
    "# Change date to datetime formats\n",
    "decade['Date'] = pd.to_datetime(decade['Date'])"
   ]
  },
  {
   "cell_type": "code",
   "execution_count": null,
   "metadata": {},
   "outputs": [],
   "source": [
    "#Create a month columns\n",
    "decade['Month'] = pd.DatetimeIndex(decade['Date']).month\n",
    "decade['Day'] = pd.DatetimeIndex(decade['Date']).day\n",
    "decade.head()"
   ]
  },
  {
   "cell_type": "code",
   "execution_count": null,
   "metadata": {},
   "outputs": [],
   "source": [
    "grouped_max = decade.groupby(['Month','Day']).max()\n",
    "grouped_min = decade.groupby(['Month','Day']).min()"
   ]
  },
  {
   "cell_type": "code",
   "execution_count": null,
   "metadata": {},
   "outputs": [],
   "source": [
    "grouped_max = grouped_max.reset_index()\n",
    "grouped_min = grouped_min.reset_index()"
   ]
  },
  {
   "cell_type": "code",
   "execution_count": null,
   "metadata": {},
   "outputs": [],
   "source": [
    "# Drop Leap Day\n",
    "grouped_max = grouped_max.drop(grouped_max[(grouped_max['Day'] == 29) & (grouped_max['Month'] == 2)].index)\n",
    "grouped_min = grouped_min.drop(grouped_min[(grouped_min['Day'] == 29) & (grouped_min['Month'] == 2)].index)\n",
    "grouped_min.shape\n",
    "grouped_max = grouped_max.reset_index()\n",
    "grouped_min = grouped_min.reset_index()\n"
   ]
  },
  {
   "cell_type": "code",
   "execution_count": null,
   "metadata": {
    "scrolled": false
   },
   "outputs": [],
   "source": [
    "year_2015['Date'] = pd.to_datetime(year_2015['Date'])\n",
    "year_2015_max = year_2015.groupby('Date').max()\n",
    "year_2015_min = year_2015.groupby('Date').min()\n",
    "print(year_2015_max.shape)\n",
    "print(year_2015_min.shape)"
   ]
  },
  {
   "cell_type": "code",
   "execution_count": null,
   "metadata": {},
   "outputs": [],
   "source": [
    "year_2015_max = year_2015_max.reset_index() \n",
    "year_2015_min = year_2015_min.reset_index() "
   ]
  },
  {
   "cell_type": "code",
   "execution_count": null,
   "metadata": {},
   "outputs": [],
   "source": [
    "record_high = year_2015_max[year_2015_max['Data_Value'] > grouped_max['Data_Value']]\n",
    "record_low = year_2015_min[year_2015_min['Data_Value'] < grouped_min['Data_Value']]"
   ]
  },
  {
   "cell_type": "code",
   "execution_count": null,
   "metadata": {},
   "outputs": [],
   "source": [
    "# x ticks\n",
    "xticks = (pd.date_range('1/1/2015','31/12/2015', freq = 'M') - 1 + pd.Timedelta('1D')).strftime('%-j').astype(int)\n",
    "xticks"
   ]
  },
  {
   "cell_type": "code",
   "execution_count": null,
   "metadata": {},
   "outputs": [],
   "source": [
    "xticks_labels = pd.to_datetime(xticks, format = '%j').strftime('%b')\n",
    "xticks_labels"
   ]
  },
  {
   "cell_type": "code",
   "execution_count": null,
   "metadata": {},
   "outputs": [],
   "source": [
    "# create a new image\n",
    "\n",
    "%matplotlib notebook\n",
    "\n",
    "plt.figure()  \n",
    "  \n",
    "ax1 = plt.gca() # Primary axes\n",
    "ax2 = ax1.twinx() # Seondary Axis\n",
    "\n",
    "plt.scatter(record_high.index,record_high['Data_Value'], color = 'r', s = 15)\n",
    "plt.scatter(record_low.index,record_low['Data_Value'], color = 'b', s = 15)\n",
    "\n",
    "ax2.plot(grouped_min['Data_Value'], '-',color ='k', alpha = 0.1,  linewidth=1)\n",
    "ax2.plot(grouped_max['Data_Value'],'-', color ='k', alpha = 0.3,  linewidth=1)\n",
    "ax2.fill_between(grouped_min.index, \n",
    "                       grouped_min['Data_Value'], grouped_max['Data_Value'], \n",
    "                       facecolor='gray', \n",
    "                       alpha=0.25)\n",
    "ax2.set_xlim(1,365)\n",
    "ax2.set_xticks(xticks)\n",
    "ax2.set_xticklabels(xticks_labels, alpha = 0.6)\n",
    "ax1.set_xticklabels(xticks_labels, alpha = 0.6)\n",
    "ax2.set_title('Low & High Temperature between 2005-2014 \\n and Record Braking Temperatures of 2015', alpha =0.6)\n",
    "\n",
    "# Set y tick Labels\n",
    "axlim = ax1.set_ylim(-380,450)\n",
    "yticks = pd.Series([-300,0,400])\n",
    "ax1.set_yticks(yticks)\n",
    "# yticks = (ax.get_yticks() / 10).astype(int)\n",
    "ylabels = pd.Series(yticks/10).astype(int).astype(str) + ' °C'\n",
    "ax1.set_yticklabels(ylabels, alpha = 0.6)\n",
    "\n",
    "# Secondary y-axis labels\n",
    "#Convert to fahrenheit from celcius\n",
    "ax2.set_ylim(axlim)\n",
    "ax2.set_yticks(yticks)\n",
    "yticks_ax2 = (yticks/10 *  (9/5) + 32).astype(int)\n",
    "ylabels_ax2 = pd.Series(yticks_ax2).astype(int).astype(str) + ' °F'\n",
    "ax2.set_yticklabels(ylabels_ax2, alpha = 0.6)\n",
    "\n",
    "# Shaded Gray background\n",
    "# start = pd.Series(xticks).iloc[::2]\n",
    "# end = pd.Series(xticks).iloc[1::2]\n",
    "# for s, e in zip(start, end):\n",
    "#     ax1.axvspan(s,e, alpha=0.02, color='k', linewidth = 0)\n",
    "\n",
    "ax1.grid(True, alpha = 0.1)\n",
    "\n",
    "\n",
    "# invisible Frame\n",
    "for spine in ax2.spines:\n",
    "    ax2.spines[spine].set_visible(False)\n",
    "for spine in ax1.spines:\n",
    "    ax1.spines[spine].set_visible(False)\n",
    "    \n",
    "ax1.spines['bottom'].set_visible(True)\n",
    "ax1.spines['bottom'].set_alpha(0.3)\n",
    "\n",
    "# Removing Ticks\n",
    "ax1.tick_params(axis=u'both', which=u'both',length=0)\n",
    "ax2.tick_params(axis=u'both', which=u'both',length=0)\n",
    "\n",
    "# Labels\n",
    "ax1.set_xlabel('Month', alpha = 0.8)\n",
    "ax1.set_ylabel('Temperature' , alpha = 0.8)\n",
    "\n",
    "# legend\n",
    "leg = ax2.legend(loc=4,labels = ['Low (2005-2014)','High (2005-2014)','Record High','Record Low'], frameon = False, fontsize = 'x-small')\n",
    "plt.show()"
   ]
  },
  {
   "cell_type": "code",
   "execution_count": null,
   "metadata": {},
   "outputs": [],
   "source": []
  },
  {
   "cell_type": "code",
   "execution_count": null,
   "metadata": {},
   "outputs": [],
   "source": []
  }
 ],
 "metadata": {
  "interpreter": {
   "hash": "aee8b7b246df8f9039afb4144a1f6fd8d2ca17a180786b69acc140d282b71a49"
  },
  "kernelspec": {
   "display_name": "Python 3 (ipykernel)",
   "language": "python",
   "name": "python3"
  },
  "language_info": {
   "codemirror_mode": {
    "name": "ipython",
    "version": 3
   },
   "file_extension": ".py",
   "mimetype": "text/x-python",
   "name": "python",
   "nbconvert_exporter": "python",
   "pygments_lexer": "ipython3",
   "version": "3.8.8"
  }
 },
 "nbformat": 4,
 "nbformat_minor": 1
}
