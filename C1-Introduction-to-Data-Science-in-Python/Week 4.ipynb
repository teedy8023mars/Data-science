{
 "cells": [
  {
   "cell_type": "markdown",
   "metadata": {},
   "source": [
    "---\n",
    "\n",
    "_You are currently looking at **version 1.0** of this notebook. To download notebooks and datafiles, as well as get help on Jupyter notebooks in the Coursera platform, visit the [Jupyter Notebook FAQ](https://www.coursera.org/learn/python-data-analysis/resources/0dhYG) course resource._\n",
    "\n",
    "---"
   ]
  },
  {
   "cell_type": "markdown",
   "metadata": {},
   "source": [
    "# Distributions in Pandas"
   ]
  },
  {
   "cell_type": "code",
   "execution_count": 19,
   "metadata": {},
   "outputs": [],
   "source": [
    "import pandas as pd\n",
    "import numpy as np\n",
    "from scipy import stats\n",
    "import random"
   ]
  },
  {
   "cell_type": "code",
   "execution_count": 3,
   "metadata": {},
   "outputs": [
    {
     "data": {
      "text/plain": [
       "1"
      ]
     },
     "execution_count": 3,
     "metadata": {},
     "output_type": "execute_result"
    }
   ],
   "source": [
    "np.random.binomial(1, 0.5) # First parameter is the number of times you want to run the test."
   ]
  },
  {
   "cell_type": "code",
   "execution_count": 4,
   "metadata": {},
   "outputs": [
    {
     "data": {
      "text/plain": [
       "0.503"
      ]
     },
     "execution_count": 4,
     "metadata": {},
     "output_type": "execute_result"
    }
   ],
   "source": [
    "np.random.binomial(1000, 0.5)/1000 # Run the test 1000 times and divide by 1000. Answer close to 0.5 as expected."
   ]
  },
  {
   "cell_type": "code",
   "execution_count": 5,
   "metadata": {},
   "outputs": [
    {
     "data": {
      "text/plain": [
       "13"
      ]
     },
     "execution_count": 5,
     "metadata": {},
     "output_type": "execute_result"
    }
   ],
   "source": [
    "chance_of_tornado = 0.01/100\n",
    "np.random.binomial(100000, chance_of_tornado)"
   ]
  },
  {
   "cell_type": "code",
   "execution_count": 6,
   "metadata": {},
   "outputs": [
    {
     "name": "stdout",
     "output_type": "stream",
     "text": [
      "111 tornadoes back to back in 2739.72602739726 years\n"
     ]
    }
   ],
   "source": [
    "chance_of_tornado = 0.01\n",
    "\n",
    "tornado_events = np.random.binomial(1, chance_of_tornado, 1000000)\n",
    "    \n",
    "two_days_in_a_row = 0\n",
    "for j in range(1,len(tornado_events)-1):\n",
    "    if tornado_events[j]==1 and tornado_events[j-1]==1:\n",
    "        two_days_in_a_row+=1\n",
    "\n",
    "print('{} tornadoes back to back in {} years'.format(two_days_in_a_row, 1000000/365))"
   ]
  },
  {
   "cell_type": "code",
   "execution_count": 7,
   "metadata": {},
   "outputs": [
    {
     "data": {
      "text/plain": [
       "0.6466299864750941"
      ]
     },
     "execution_count": 7,
     "metadata": {},
     "output_type": "execute_result"
    }
   ],
   "source": [
    "np.random.uniform(0, 1)"
   ]
  },
  {
   "cell_type": "code",
   "execution_count": 8,
   "metadata": {},
   "outputs": [
    {
     "data": {
      "text/plain": [
       "-0.7993582450000314"
      ]
     },
     "execution_count": 8,
     "metadata": {},
     "output_type": "execute_result"
    }
   ],
   "source": [
    "np.random.normal(0.75)"
   ]
  },
  {
   "cell_type": "markdown",
   "metadata": {},
   "source": [
    "Formula for standard deviation\n",
    "$$\\sqrt{\\frac{1}{N} \\sum_{i=1}^N (x_i - \\overline{x})^2}$$"
   ]
  },
  {
   "cell_type": "code",
   "execution_count": 9,
   "metadata": {},
   "outputs": [
    {
     "data": {
      "text/plain": [
       "0.98455800156181117"
      ]
     },
     "execution_count": 9,
     "metadata": {},
     "output_type": "execute_result"
    }
   ],
   "source": [
    "distribution = np.random.normal(0.75,size=1000)\n",
    "\n",
    "np.sqrt(np.sum((np.mean(distribution)-distribution)**2)/len(distribution))"
   ]
  },
  {
   "cell_type": "code",
   "execution_count": 10,
   "metadata": {
    "scrolled": true
   },
   "outputs": [
    {
     "data": {
      "text/plain": [
       "0.98455800156181117"
      ]
     },
     "execution_count": 10,
     "metadata": {},
     "output_type": "execute_result"
    }
   ],
   "source": [
    "np.std(distribution)"
   ]
  },
  {
   "cell_type": "code",
   "execution_count": 11,
   "metadata": {},
   "outputs": [
    {
     "data": {
      "text/plain": [
       "-0.13839293790781104"
      ]
     },
     "execution_count": 11,
     "metadata": {},
     "output_type": "execute_result"
    }
   ],
   "source": [
    "import scipy.stats as stats\n",
    "stats.kurtosis(distribution)"
   ]
  },
  {
   "cell_type": "code",
   "execution_count": 12,
   "metadata": {},
   "outputs": [
    {
     "data": {
      "text/plain": [
       "0.0592003381008596"
      ]
     },
     "execution_count": 12,
     "metadata": {},
     "output_type": "execute_result"
    }
   ],
   "source": [
    "stats.skew(distribution)"
   ]
  },
  {
   "cell_type": "code",
   "execution_count": 13,
   "metadata": {},
   "outputs": [
    {
     "data": {
      "text/plain": [
       "1.959633148623116"
      ]
     },
     "execution_count": 13,
     "metadata": {},
     "output_type": "execute_result"
    }
   ],
   "source": [
    "chi_squared_df2 = np.random.chisquare(2, size=10000)\n",
    "stats.skew(chi_squared_df2)"
   ]
  },
  {
   "cell_type": "code",
   "execution_count": 14,
   "metadata": {},
   "outputs": [
    {
     "data": {
      "text/plain": [
       "1.2817283138369984"
      ]
     },
     "execution_count": 14,
     "metadata": {},
     "output_type": "execute_result"
    }
   ],
   "source": [
    "chi_squared_df5 = np.random.chisquare(5, size=10000)\n",
    "stats.skew(chi_squared_df5)"
   ]
  },
  {
   "cell_type": "code",
   "execution_count": 15,
   "metadata": {},
   "outputs": [
    {
     "data": {
      "text/plain": [
       "<matplotlib.legend.Legend at 0x7ff3412682b0>"
      ]
     },
     "execution_count": 15,
     "metadata": {},
     "output_type": "execute_result"
    },
    {
     "data": {
      "image/png": "[encoded data removed]",
      "text/plain": [
       "<matplotlib.figure.Figure at 0x7ff341268b00>"
      ]
     },
     "metadata": {},
     "output_type": "display_data"
    }
   ],
   "source": [
    "%matplotlib inline\n",
    "import matplotlib\n",
    "import matplotlib.pyplot as plt\n",
    "\n",
    "output = plt.hist([chi_squared_df2,chi_squared_df5], bins=50, histtype='step', \n",
    "                  label=['2 degrees of freedom','5 degrees of freedom'])\n",
    "plt.legend(loc='upper right')\n"
   ]
  },
  {
   "cell_type": "markdown",
   "metadata": {},
   "source": [
    "# Hypothesis Testing"
   ]
  },
  {
   "cell_type": "code",
   "execution_count": 3,
   "metadata": {},
   "outputs": [],
   "source": [
    "df = pd.read_csv('grades.csv')"
   ]
  },
  {
   "cell_type": "code",
   "execution_count": 4,
   "metadata": {},
   "outputs": [
    {
     "data": {
      "text/html": [
       "<div>\n",
       "<style scoped>\n",
       "    .dataframe tbody tr th:only-of-type {\n",
       "        vertical-align: middle;\n",
       "    }\n",
       "\n",
       "    .dataframe tbody tr th {\n",
       "        vertical-align: top;\n",
       "    }\n",
       "\n",
       "    .dataframe thead th {\n",
       "        text-align: right;\n",
       "    }\n",
       "</style>\n",
       "<table border=\"1\" class=\"dataframe\">\n",
       "  <thead>\n",
       "    <tr style=\"text-align: right;\">\n",
       "      <th></th>\n",
       "      <th>student_id</th>\n",
       "      <th>assignment1_grade</th>\n",
       "      <th>assignment1_submission</th>\n",
       "      <th>assignment2_grade</th>\n",
       "      <th>assignment2_submission</th>\n",
       "      <th>assignment3_grade</th>\n",
       "      <th>assignment3_submission</th>\n",
       "      <th>assignment4_grade</th>\n",
       "      <th>assignment4_submission</th>\n",
       "      <th>assignment5_grade</th>\n",
       "      <th>assignment5_submission</th>\n",
       "      <th>assignment6_grade</th>\n",
       "      <th>assignment6_submission</th>\n",
       "    </tr>\n",
       "  </thead>\n",
       "  <tbody>\n",
       "    <tr>\n",
       "      <th>0</th>\n",
       "      <td>B73F2C11-70F0-E37D-8B10-1D20AFED50B1</td>\n",
       "      <td>92.733946</td>\n",
       "      <td>2015-11-02 06:55:34.282000000</td>\n",
       "      <td>83.030552</td>\n",
       "      <td>2015-11-09 02:22:58.938000000</td>\n",
       "      <td>67.164441</td>\n",
       "      <td>2015-11-12 08:58:33.998000000</td>\n",
       "      <td>53.011553</td>\n",
       "      <td>2015-11-16 01:21:24.663000000</td>\n",
       "      <td>47.710398</td>\n",
       "      <td>2015-11-20 13:24:59.692000000</td>\n",
       "      <td>38.168318</td>\n",
       "      <td>2015-11-22 18:31:15.934000000</td>\n",
       "    </tr>\n",
       "    <tr>\n",
       "      <th>1</th>\n",
       "      <td>98A0FAE0-A19A-13D2-4BB5-CFBFD94031D1</td>\n",
       "      <td>86.790821</td>\n",
       "      <td>2015-11-29 14:57:44.429000000</td>\n",
       "      <td>86.290821</td>\n",
       "      <td>2015-12-06 17:41:18.449000000</td>\n",
       "      <td>69.772657</td>\n",
       "      <td>2015-12-10 08:54:55.904000000</td>\n",
       "      <td>55.098125</td>\n",
       "      <td>2015-12-13 17:32:30.941000000</td>\n",
       "      <td>49.588313</td>\n",
       "      <td>2015-12-19 23:26:39.285000000</td>\n",
       "      <td>44.629482</td>\n",
       "      <td>2015-12-21 17:07:24.275000000</td>\n",
       "    </tr>\n",
       "    <tr>\n",
       "      <th>2</th>\n",
       "      <td>D0F62040-CEB0-904C-F563-2F8620916C4E</td>\n",
       "      <td>85.512541</td>\n",
       "      <td>2016-01-09 05:36:02.389000000</td>\n",
       "      <td>85.512541</td>\n",
       "      <td>2016-01-09 06:39:44.416000000</td>\n",
       "      <td>68.410033</td>\n",
       "      <td>2016-01-15 20:22:45.882000000</td>\n",
       "      <td>54.728026</td>\n",
       "      <td>2016-01-11 12:41:50.749000000</td>\n",
       "      <td>49.255224</td>\n",
       "      <td>2016-01-11 17:31:12.489000000</td>\n",
       "      <td>44.329701</td>\n",
       "      <td>2016-01-17 16:24:42.765000000</td>\n",
       "    </tr>\n",
       "    <tr>\n",
       "      <th>3</th>\n",
       "      <td>FFDF2B2C-F514-EF7F-6538-A6A53518E9DC</td>\n",
       "      <td>86.030665</td>\n",
       "      <td>2016-04-30 06:50:39.801000000</td>\n",
       "      <td>68.824532</td>\n",
       "      <td>2016-04-30 17:20:38.727000000</td>\n",
       "      <td>61.942079</td>\n",
       "      <td>2016-05-12 07:47:16.326000000</td>\n",
       "      <td>49.553663</td>\n",
       "      <td>2016-05-07 16:09:20.485000000</td>\n",
       "      <td>49.553663</td>\n",
       "      <td>2016-05-24 12:51:18.016000000</td>\n",
       "      <td>44.598297</td>\n",
       "      <td>2016-05-26 08:09:12.058000000</td>\n",
       "    </tr>\n",
       "    <tr>\n",
       "      <th>4</th>\n",
       "      <td>5ECBEEB6-F1CE-80AE-3164-E45E99473FB4</td>\n",
       "      <td>64.813800</td>\n",
       "      <td>2015-12-13 17:06:10.750000000</td>\n",
       "      <td>51.491040</td>\n",
       "      <td>2015-12-14 12:25:12.056000000</td>\n",
       "      <td>41.932832</td>\n",
       "      <td>2015-12-29 14:25:22.594000000</td>\n",
       "      <td>36.929549</td>\n",
       "      <td>2015-12-28 01:29:55.901000000</td>\n",
       "      <td>33.236594</td>\n",
       "      <td>2015-12-29 14:46:06.628000000</td>\n",
       "      <td>33.236594</td>\n",
       "      <td>2016-01-05 01:06:59.546000000</td>\n",
       "    </tr>\n",
       "  </tbody>\n",
       "</table>\n",
       "</div>"
      ],
      "text/plain": [
       "                             student_id  assignment1_grade  \\\n",
       "0  B73F2C11-70F0-E37D-8B10-1D20AFED50B1          92.733946   \n",
       "1  98A0FAE0-A19A-13D2-4BB5-CFBFD94031D1          86.790821   \n",
       "2  D0F62040-CEB0-904C-F563-2F8620916C4E          85.512541   \n",
       "3  FFDF2B2C-F514-EF7F-6538-A6A53518E9DC          86.030665   \n",
       "4  5ECBEEB6-F1CE-80AE-3164-E45E99473FB4          64.813800   \n",
       "\n",
       "          assignment1_submission  assignment2_grade  \\\n",
       "0  2015-11-02 06:55:34.282000000          83.030552   \n",
       "1  2015-11-29 14:57:44.429000000          86.290821   \n",
       "2  2016-01-09 05:36:02.389000000          85.512541   \n",
       "3  2016-04-30 06:50:39.801000000          68.824532   \n",
       "4  2015-12-13 17:06:10.750000000          51.491040   \n",
       "\n",
       "          assignment2_submission  assignment3_grade  \\\n",
       "0  2015-11-09 02:22:58.938000000          67.164441   \n",
       "1  2015-12-06 17:41:18.449000000          69.772657   \n",
       "2  2016-01-09 06:39:44.416000000          68.410033   \n",
       "3  2016-04-30 17:20:38.727000000          61.942079   \n",
       "4  2015-12-14 12:25:12.056000000          41.932832   \n",
       "\n",
       "          assignment3_submission  assignment4_grade  \\\n",
       "0  2015-11-12 08:58:33.998000000          53.011553   \n",
       "1  2015-12-10 08:54:55.904000000          55.098125   \n",
       "2  2016-01-15 20:22:45.882000000          54.728026   \n",
       "3  2016-05-12 07:47:16.326000000          49.553663   \n",
       "4  2015-12-29 14:25:22.594000000          36.929549   \n",
       "\n",
       "          assignment4_submission  assignment5_grade  \\\n",
       "0  2015-11-16 01:21:24.663000000          47.710398   \n",
       "1  2015-12-13 17:32:30.941000000          49.588313   \n",
       "2  2016-01-11 12:41:50.749000000          49.255224   \n",
       "3  2016-05-07 16:09:20.485000000          49.553663   \n",
       "4  2015-12-28 01:29:55.901000000          33.236594   \n",
       "\n",
       "          assignment5_submission  assignment6_grade  \\\n",
       "0  2015-11-20 13:24:59.692000000          38.168318   \n",
       "1  2015-12-19 23:26:39.285000000          44.629482   \n",
       "2  2016-01-11 17:31:12.489000000          44.329701   \n",
       "3  2016-05-24 12:51:18.016000000          44.598297   \n",
       "4  2015-12-29 14:46:06.628000000          33.236594   \n",
       "\n",
       "          assignment6_submission  \n",
       "0  2015-11-22 18:31:15.934000000  \n",
       "1  2015-12-21 17:07:24.275000000  \n",
       "2  2016-01-17 16:24:42.765000000  \n",
       "3  2016-05-26 08:09:12.058000000  \n",
       "4  2016-01-05 01:06:59.546000000  "
      ]
     },
     "execution_count": 4,
     "metadata": {},
     "output_type": "execute_result"
    }
   ],
   "source": [
    "df.head()"
   ]
  },
  {
   "cell_type": "code",
   "execution_count": 6,
   "metadata": {},
   "outputs": [],
   "source": [
    "early = df[df['assignment1_submission'] <= '2015-12-31']\n",
    "late = df[df['assignment1_submission'] > '2015-12-31']"
   ]
  },
  {
   "cell_type": "code",
   "execution_count": 7,
   "metadata": {},
   "outputs": [
    {
     "data": {
      "text/plain": [
       "assignment1_grade    74.972741\n",
       "assignment2_grade    67.252190\n",
       "assignment3_grade    61.129050\n",
       "assignment4_grade    54.157620\n",
       "assignment5_grade    48.634643\n",
       "assignment6_grade    43.838980\n",
       "dtype: float64"
      ]
     },
     "execution_count": 7,
     "metadata": {},
     "output_type": "execute_result"
    }
   ],
   "source": [
    "early.mean()"
   ]
  },
  {
   "cell_type": "code",
   "execution_count": 8,
   "metadata": {},
   "outputs": [
    {
     "data": {
      "text/plain": [
       "assignment1_grade    74.017429\n",
       "assignment2_grade    66.370822\n",
       "assignment3_grade    60.023244\n",
       "assignment4_grade    54.058138\n",
       "assignment5_grade    48.599402\n",
       "assignment6_grade    43.844384\n",
       "dtype: float64"
      ]
     },
     "execution_count": 8,
     "metadata": {},
     "output_type": "execute_result"
    }
   ],
   "source": [
    "late.mean()"
   ]
  },
  {
   "cell_type": "markdown",
   "metadata": {},
   "source": [
    "# Statistical tests and forms a basis for hypothesis testing in Python and we are going to use ttest_ind() function which does an independent t-test (meaning the populations are not related to one another). The result of ttest _index() are the t-statistic and a p-value. It's this latter value, the probability, which is most important to us, as it indicates the chance (between 0 and 1) of our null hypotheses being True."
   ]
  },
  {
   "attachments": {
    "image.png": {
     "image/png": "[encoded data removed]"
    }
   },
   "cell_type": "markdown",
   "metadata": {},
   "source": [
    "![image.png](attachment:image.png)"
   ]
  },
  {
   "cell_type": "code",
   "execution_count": 15,
   "metadata": {},
   "outputs": [
    {
     "name": "stdout",
     "output_type": "stream",
     "text": [
      "Ttest_indResult(statistic=1.400549944897566, pvalue=0.16148283016060577)\n",
      "Ttest_indResult(statistic=1.323986822091257, pvalue=0.18563824610067958)\n",
      "Ttest_indResult(statistic=1.7116160037010733, pvalue=0.08710151634155668)\n",
      "Ttest_indResult(statistic=0.16232182017140787, pvalue=0.8710666110447575)\n",
      "Ttest_indResult(statistic=0.06063973879942835, pvalue=0.9516513635792874)\n"
     ]
    }
   ],
   "source": [
    "\"\"\"p value: the less the better, low possibility to happen by chance.\"\"\"\n",
    "print(stats.ttest_ind(early['assignment1_grade'], late['assignment1_grade']))\n",
    "print(stats.ttest_ind(early['assignment2_grade'], late['assignment2_grade']))\n",
    "print(stats.ttest_ind(early['assignment3_grade'], late['assignment3_grade']))\n",
    "print(stats.ttest_ind(early['assignment4_grade'], late['assignment4_grade']))\n",
    "print(stats.ttest_ind(early['assignment5_grade'], late['assignment5_grade']))"
   ]
  },
  {
   "cell_type": "code",
   "execution_count": 39,
   "metadata": {},
   "outputs": [
    {
     "data": {
      "text/html": [
       "<div>\n",
       "<style scoped>\n",
       "    .dataframe tbody tr th:only-of-type {\n",
       "        vertical-align: middle;\n",
       "    }\n",
       "\n",
       "    .dataframe tbody tr th {\n",
       "        vertical-align: top;\n",
       "    }\n",
       "\n",
       "    .dataframe thead th {\n",
       "        text-align: right;\n",
       "    }\n",
       "</style>\n",
       "<table border=\"1\" class=\"dataframe\">\n",
       "  <thead>\n",
       "    <tr style=\"text-align: right;\">\n",
       "      <th></th>\n",
       "      <th>0</th>\n",
       "      <th>1</th>\n",
       "      <th>2</th>\n",
       "      <th>3</th>\n",
       "      <th>4</th>\n",
       "      <th>5</th>\n",
       "      <th>6</th>\n",
       "      <th>7</th>\n",
       "      <th>8</th>\n",
       "      <th>9</th>\n",
       "      <th>...</th>\n",
       "      <th>30</th>\n",
       "      <th>31</th>\n",
       "      <th>32</th>\n",
       "      <th>33</th>\n",
       "      <th>34</th>\n",
       "      <th>35</th>\n",
       "      <th>36</th>\n",
       "      <th>37</th>\n",
       "      <th>38</th>\n",
       "      <th>39</th>\n",
       "    </tr>\n",
       "  </thead>\n",
       "  <tbody>\n",
       "    <tr>\n",
       "      <th>0</th>\n",
       "      <td>0.934779</td>\n",
       "      <td>0.999147</td>\n",
       "      <td>0.516745</td>\n",
       "      <td>0.043906</td>\n",
       "      <td>0.872470</td>\n",
       "      <td>0.533458</td>\n",
       "      <td>0.004405</td>\n",
       "      <td>0.227290</td>\n",
       "      <td>0.863395</td>\n",
       "      <td>0.876881</td>\n",
       "      <td>...</td>\n",
       "      <td>0.428056</td>\n",
       "      <td>0.315661</td>\n",
       "      <td>0.850473</td>\n",
       "      <td>0.650600</td>\n",
       "      <td>0.172670</td>\n",
       "      <td>0.618234</td>\n",
       "      <td>0.003555</td>\n",
       "      <td>0.075149</td>\n",
       "      <td>0.441203</td>\n",
       "      <td>0.583064</td>\n",
       "    </tr>\n",
       "    <tr>\n",
       "      <th>1</th>\n",
       "      <td>0.568337</td>\n",
       "      <td>0.574460</td>\n",
       "      <td>0.659502</td>\n",
       "      <td>0.712367</td>\n",
       "      <td>0.110388</td>\n",
       "      <td>0.218457</td>\n",
       "      <td>0.192343</td>\n",
       "      <td>0.327345</td>\n",
       "      <td>0.009505</td>\n",
       "      <td>0.338185</td>\n",
       "      <td>...</td>\n",
       "      <td>0.677082</td>\n",
       "      <td>0.752716</td>\n",
       "      <td>0.859130</td>\n",
       "      <td>0.148289</td>\n",
       "      <td>0.679355</td>\n",
       "      <td>0.256120</td>\n",
       "      <td>0.698442</td>\n",
       "      <td>0.586686</td>\n",
       "      <td>0.030407</td>\n",
       "      <td>0.564333</td>\n",
       "    </tr>\n",
       "    <tr>\n",
       "      <th>2</th>\n",
       "      <td>0.833563</td>\n",
       "      <td>0.838515</td>\n",
       "      <td>0.555877</td>\n",
       "      <td>0.948578</td>\n",
       "      <td>0.016280</td>\n",
       "      <td>0.245019</td>\n",
       "      <td>0.780039</td>\n",
       "      <td>0.245152</td>\n",
       "      <td>0.736549</td>\n",
       "      <td>0.040226</td>\n",
       "      <td>...</td>\n",
       "      <td>0.178079</td>\n",
       "      <td>0.726246</td>\n",
       "      <td>0.643816</td>\n",
       "      <td>0.216974</td>\n",
       "      <td>0.866469</td>\n",
       "      <td>0.471398</td>\n",
       "      <td>0.225849</td>\n",
       "      <td>0.599948</td>\n",
       "      <td>0.244132</td>\n",
       "      <td>0.739574</td>\n",
       "    </tr>\n",
       "    <tr>\n",
       "      <th>3</th>\n",
       "      <td>0.508938</td>\n",
       "      <td>0.274465</td>\n",
       "      <td>0.111536</td>\n",
       "      <td>0.960673</td>\n",
       "      <td>0.081114</td>\n",
       "      <td>0.333911</td>\n",
       "      <td>0.697602</td>\n",
       "      <td>0.016255</td>\n",
       "      <td>0.763451</td>\n",
       "      <td>0.748988</td>\n",
       "      <td>...</td>\n",
       "      <td>0.885378</td>\n",
       "      <td>0.551693</td>\n",
       "      <td>0.179824</td>\n",
       "      <td>0.611598</td>\n",
       "      <td>0.708562</td>\n",
       "      <td>0.296295</td>\n",
       "      <td>0.181961</td>\n",
       "      <td>0.036137</td>\n",
       "      <td>0.341383</td>\n",
       "      <td>0.829684</td>\n",
       "    </tr>\n",
       "    <tr>\n",
       "      <th>4</th>\n",
       "      <td>0.719435</td>\n",
       "      <td>0.075030</td>\n",
       "      <td>0.894745</td>\n",
       "      <td>0.943507</td>\n",
       "      <td>0.245472</td>\n",
       "      <td>0.005945</td>\n",
       "      <td>0.803169</td>\n",
       "      <td>0.469421</td>\n",
       "      <td>0.544706</td>\n",
       "      <td>0.652826</td>\n",
       "      <td>...</td>\n",
       "      <td>0.864401</td>\n",
       "      <td>0.360923</td>\n",
       "      <td>0.497277</td>\n",
       "      <td>0.662578</td>\n",
       "      <td>0.050956</td>\n",
       "      <td>0.585344</td>\n",
       "      <td>0.245555</td>\n",
       "      <td>0.484373</td>\n",
       "      <td>0.107505</td>\n",
       "      <td>0.354077</td>\n",
       "    </tr>\n",
       "    <tr>\n",
       "      <th>...</th>\n",
       "      <td>...</td>\n",
       "      <td>...</td>\n",
       "      <td>...</td>\n",
       "      <td>...</td>\n",
       "      <td>...</td>\n",
       "      <td>...</td>\n",
       "      <td>...</td>\n",
       "      <td>...</td>\n",
       "      <td>...</td>\n",
       "      <td>...</td>\n",
       "      <td>...</td>\n",
       "      <td>...</td>\n",
       "      <td>...</td>\n",
       "      <td>...</td>\n",
       "      <td>...</td>\n",
       "      <td>...</td>\n",
       "      <td>...</td>\n",
       "      <td>...</td>\n",
       "      <td>...</td>\n",
       "      <td>...</td>\n",
       "      <td>...</td>\n",
       "    </tr>\n",
       "    <tr>\n",
       "      <th>95</th>\n",
       "      <td>0.982249</td>\n",
       "      <td>0.710949</td>\n",
       "      <td>0.500357</td>\n",
       "      <td>0.066422</td>\n",
       "      <td>0.326572</td>\n",
       "      <td>0.235105</td>\n",
       "      <td>0.841289</td>\n",
       "      <td>0.049776</td>\n",
       "      <td>0.130200</td>\n",
       "      <td>0.415651</td>\n",
       "      <td>...</td>\n",
       "      <td>0.370098</td>\n",
       "      <td>0.804226</td>\n",
       "      <td>0.145627</td>\n",
       "      <td>0.816205</td>\n",
       "      <td>0.563536</td>\n",
       "      <td>0.147224</td>\n",
       "      <td>0.578802</td>\n",
       "      <td>0.139343</td>\n",
       "      <td>0.746080</td>\n",
       "      <td>0.391696</td>\n",
       "    </tr>\n",
       "    <tr>\n",
       "      <th>96</th>\n",
       "      <td>0.800254</td>\n",
       "      <td>0.885065</td>\n",
       "      <td>0.394411</td>\n",
       "      <td>0.103123</td>\n",
       "      <td>0.297022</td>\n",
       "      <td>0.866981</td>\n",
       "      <td>0.678085</td>\n",
       "      <td>0.226540</td>\n",
       "      <td>0.687755</td>\n",
       "      <td>0.475274</td>\n",
       "      <td>...</td>\n",
       "      <td>0.780444</td>\n",
       "      <td>0.570434</td>\n",
       "      <td>0.240637</td>\n",
       "      <td>0.451974</td>\n",
       "      <td>0.357636</td>\n",
       "      <td>0.890949</td>\n",
       "      <td>0.328481</td>\n",
       "      <td>0.172599</td>\n",
       "      <td>0.668304</td>\n",
       "      <td>0.894849</td>\n",
       "    </tr>\n",
       "    <tr>\n",
       "      <th>97</th>\n",
       "      <td>0.516661</td>\n",
       "      <td>0.987739</td>\n",
       "      <td>0.014335</td>\n",
       "      <td>0.988979</td>\n",
       "      <td>0.554869</td>\n",
       "      <td>0.685345</td>\n",
       "      <td>0.564814</td>\n",
       "      <td>0.203119</td>\n",
       "      <td>0.056198</td>\n",
       "      <td>0.112615</td>\n",
       "      <td>...</td>\n",
       "      <td>0.796512</td>\n",
       "      <td>0.391730</td>\n",
       "      <td>0.279385</td>\n",
       "      <td>0.116249</td>\n",
       "      <td>0.827585</td>\n",
       "      <td>0.337081</td>\n",
       "      <td>0.522220</td>\n",
       "      <td>0.296440</td>\n",
       "      <td>0.841951</td>\n",
       "      <td>0.149723</td>\n",
       "    </tr>\n",
       "    <tr>\n",
       "      <th>98</th>\n",
       "      <td>0.651646</td>\n",
       "      <td>0.860475</td>\n",
       "      <td>0.908148</td>\n",
       "      <td>0.249877</td>\n",
       "      <td>0.335022</td>\n",
       "      <td>0.052807</td>\n",
       "      <td>0.815536</td>\n",
       "      <td>0.543984</td>\n",
       "      <td>0.233439</td>\n",
       "      <td>0.100086</td>\n",
       "      <td>...</td>\n",
       "      <td>0.878851</td>\n",
       "      <td>0.936578</td>\n",
       "      <td>0.579312</td>\n",
       "      <td>0.277924</td>\n",
       "      <td>0.822660</td>\n",
       "      <td>0.227527</td>\n",
       "      <td>0.824517</td>\n",
       "      <td>0.827093</td>\n",
       "      <td>0.776216</td>\n",
       "      <td>0.755967</td>\n",
       "    </tr>\n",
       "    <tr>\n",
       "      <th>99</th>\n",
       "      <td>0.872323</td>\n",
       "      <td>0.554781</td>\n",
       "      <td>0.321097</td>\n",
       "      <td>0.262396</td>\n",
       "      <td>0.300664</td>\n",
       "      <td>0.283923</td>\n",
       "      <td>0.525012</td>\n",
       "      <td>0.578698</td>\n",
       "      <td>0.343575</td>\n",
       "      <td>0.488501</td>\n",
       "      <td>...</td>\n",
       "      <td>0.181050</td>\n",
       "      <td>0.476174</td>\n",
       "      <td>0.371963</td>\n",
       "      <td>0.944639</td>\n",
       "      <td>0.321645</td>\n",
       "      <td>0.333683</td>\n",
       "      <td>0.662628</td>\n",
       "      <td>0.219147</td>\n",
       "      <td>0.145913</td>\n",
       "      <td>0.337795</td>\n",
       "    </tr>\n",
       "  </tbody>\n",
       "</table>\n",
       "<p>100 rows × 40 columns</p>\n",
       "</div>"
      ],
      "text/plain": [
       "          0         1         2         3         4         5         6   \\\n",
       "0   0.934779  0.999147  0.516745  0.043906  0.872470  0.533458  0.004405   \n",
       "1   0.568337  0.574460  0.659502  0.712367  0.110388  0.218457  0.192343   \n",
       "2   0.833563  0.838515  0.555877  0.948578  0.016280  0.245019  0.780039   \n",
       "3   0.508938  0.274465  0.111536  0.960673  0.081114  0.333911  0.697602   \n",
       "4   0.719435  0.075030  0.894745  0.943507  0.245472  0.005945  0.803169   \n",
       "..       ...       ...       ...       ...       ...       ...       ...   \n",
       "95  0.982249  0.710949  0.500357  0.066422  0.326572  0.235105  0.841289   \n",
       "96  0.800254  0.885065  0.394411  0.103123  0.297022  0.866981  0.678085   \n",
       "97  0.516661  0.987739  0.014335  0.988979  0.554869  0.685345  0.564814   \n",
       "98  0.651646  0.860475  0.908148  0.249877  0.335022  0.052807  0.815536   \n",
       "99  0.872323  0.554781  0.321097  0.262396  0.300664  0.283923  0.525012   \n",
       "\n",
       "          7         8         9   ...        30        31        32        33  \\\n",
       "0   0.227290  0.863395  0.876881  ...  0.428056  0.315661  0.850473  0.650600   \n",
       "1   0.327345  0.009505  0.338185  ...  0.677082  0.752716  0.859130  0.148289   \n",
       "2   0.245152  0.736549  0.040226  ...  0.178079  0.726246  0.643816  0.216974   \n",
       "3   0.016255  0.763451  0.748988  ...  0.885378  0.551693  0.179824  0.611598   \n",
       "4   0.469421  0.544706  0.652826  ...  0.864401  0.360923  0.497277  0.662578   \n",
       "..       ...       ...       ...  ...       ...       ...       ...       ...   \n",
       "95  0.049776  0.130200  0.415651  ...  0.370098  0.804226  0.145627  0.816205   \n",
       "96  0.226540  0.687755  0.475274  ...  0.780444  0.570434  0.240637  0.451974   \n",
       "97  0.203119  0.056198  0.112615  ...  0.796512  0.391730  0.279385  0.116249   \n",
       "98  0.543984  0.233439  0.100086  ...  0.878851  0.936578  0.579312  0.277924   \n",
       "99  0.578698  0.343575  0.488501  ...  0.181050  0.476174  0.371963  0.944639   \n",
       "\n",
       "          34        35        36        37        38        39  \n",
       "0   0.172670  0.618234  0.003555  0.075149  0.441203  0.583064  \n",
       "1   0.679355  0.256120  0.698442  0.586686  0.030407  0.564333  \n",
       "2   0.866469  0.471398  0.225849  0.599948  0.244132  0.739574  \n",
       "3   0.708562  0.296295  0.181961  0.036137  0.341383  0.829684  \n",
       "4   0.050956  0.585344  0.245555  0.484373  0.107505  0.354077  \n",
       "..       ...       ...       ...       ...       ...       ...  \n",
       "95  0.563536  0.147224  0.578802  0.139343  0.746080  0.391696  \n",
       "96  0.357636  0.890949  0.328481  0.172599  0.668304  0.894849  \n",
       "97  0.827585  0.337081  0.522220  0.296440  0.841951  0.149723  \n",
       "98  0.822660  0.227527  0.824517  0.827093  0.776216  0.755967  \n",
       "99  0.321645  0.333683  0.662628  0.219147  0.145913  0.337795  \n",
       "\n",
       "[100 rows x 40 columns]"
      ]
     },
     "execution_count": 39,
     "metadata": {},
     "output_type": "execute_result"
    }
   ],
   "source": [
    "df2 = pd.DataFrame([np.random.random(40) for x in range(100)])\n",
    "df2"
   ]
  }
 ],
 "metadata": {
  "kernelspec": {
   "display_name": "Python 3",
   "language": "python",
   "name": "python3"
  },
  "language_info": {
   "codemirror_mode": {
    "name": "ipython",
    "version": 3
   },
   "file_extension": ".py",
   "mimetype": "text/x-python",
   "name": "python",
   "nbconvert_exporter": "python",
   "pygments_lexer": "ipython3",
   "version": "3.8.8"
  }
 },
 "nbformat": 4,
 "nbformat_minor": 1
}
